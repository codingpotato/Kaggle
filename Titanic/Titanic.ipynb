{
 "cells": [
  {
   "cell_type": "markdown",
   "metadata": {},
   "source": [
    "# Load Data"
   ]
  },
  {
   "cell_type": "code",
   "execution_count": 1,
   "metadata": {
    "collapsed": true
   },
   "outputs": [],
   "source": [
    "%matplotlib inline\n",
    "import numpy as np\n",
    "import pandas as pd\n",
    "from matplotlib import pyplot as plt"
   ]
  },
  {
   "cell_type": "code",
   "execution_count": 2,
   "metadata": {
    "collapsed": false
   },
   "outputs": [
    {
     "name": "stdout",
     "output_type": "stream",
     "text": [
      "<class 'pandas.core.frame.DataFrame'>\n",
      "Int64Index: 1309 entries, 0 to 417\n",
      "Data columns (total 12 columns):\n",
      "Age            1046 non-null float64\n",
      "Cabin          295 non-null object\n",
      "Embarked       1307 non-null object\n",
      "Fare           1308 non-null float64\n",
      "Name           1309 non-null object\n",
      "Parch          1309 non-null int64\n",
      "PassengerId    1309 non-null int64\n",
      "Pclass         1309 non-null int64\n",
      "Sex            1309 non-null object\n",
      "SibSp          1309 non-null int64\n",
      "Survived       891 non-null float64\n",
      "Ticket         1309 non-null object\n",
      "dtypes: float64(3), int64(4), object(5)\n",
      "memory usage: 132.9+ KB\n"
     ]
    }
   ],
   "source": [
    "train_data = pd.read_csv('train.csv')\n",
    "test_data = pd.read_csv('test.csv')\n",
    "data = pd.concat([train_data, test_data])\n",
    "data.info()"
   ]
  },
  {
   "cell_type": "markdown",
   "metadata": {},
   "source": [
    "# Feature Engineering"
   ]
  },
  {
   "cell_type": "code",
   "execution_count": 3,
   "metadata": {
    "collapsed": true
   },
   "outputs": [],
   "source": [
    "def plt_hist_for_feature(feature, bins = None):\n",
    "    plt.hist([features[data.Survived == 1][feature], features[data.Survived == 0][feature]], stacked = True,\n",
    "            color = ['g', 'b'], label = ['Survived', 'Dead'], \n",
    "            bins = bins if bins != None else features[feature].value_counts().count())\n",
    "    plt.legend(loc = 'best')\n",
    "features = pd.DataFrame()"
   ]
  },
  {
   "cell_type": "markdown",
   "metadata": {},
   "source": [
    "## Title"
   ]
  },
  {
   "cell_type": "code",
   "execution_count": 4,
   "metadata": {
    "collapsed": false
   },
   "outputs": [
    {
     "data": {
      "image/png": "[encoded data removed]",
      "text/plain": [
       "<matplotlib.figure.Figure at 0x9f2d978>"
      ]
     },
     "metadata": {},
     "output_type": "display_data"
    }
   ],
   "source": [
    "title_map = {\"Mr\": 1, \"Miss\": 2, \"Mrs\": 3, \"Master\": 4, \"Dr\": 5, \"Rev\": 6, \"Major\": 7, \"Col\": 7,\n",
    "             \"Mlle\": 2, \"Mme\": 3,\"Don\": 9,\"Dona\": 9, \"Lady\": 10, \"the Countess\": 10, \"Jonkheer\": 10,\n",
    "             \"Sir\": 9, \"Capt\": 7, \"Ms\": 2}\n",
    "features['Title'] = data.Name.map(lambda name: title_map[name.split('.')[0].split(',')[1].strip()])\n",
    "plt_hist_for_feature('Title')"
   ]
  },
  {
   "cell_type": "code",
   "execution_count": 5,
   "metadata": {
    "collapsed": true
   },
   "outputs": [],
   "source": [
    "has_name_length = True\n",
    "if has_name_length:\n",
    "    features['NameLength'] = data.Name.map(lambda name: len(name))"
   ]
  },
  {
   "cell_type": "markdown",
   "metadata": {},
   "source": [
    "## Family Size"
   ]
  },
  {
   "cell_type": "code",
   "execution_count": 6,
   "metadata": {
    "collapsed": false
   },
   "outputs": [
    {
     "data": {
      "image/png": "[encoded data removed]",
      "text/plain": [
       "<matplotlib.figure.Figure at 0xb2e6320>"
      ]
     },
     "metadata": {},
     "output_type": "display_data"
    }
   ],
   "source": [
    "data['FamilySize'] = data.Parch + data.SibSp + 1\n",
    "features['Parch'] = data.Parch\n",
    "features['SibSp'] = data.SibSp\n",
    "features['FamilySizeType'] = pd.cut(data.FamilySize, bins = [0, 1, 4, 20], labels = [1, 2, 3])\n",
    "plt_hist_for_feature('FamilySizeType')"
   ]
  },
  {
   "cell_type": "markdown",
   "metadata": {},
   "source": [
    "## Family ID"
   ]
  },
  {
   "cell_type": "code",
   "execution_count": 7,
   "metadata": {
    "collapsed": false
   },
   "outputs": [],
   "source": [
    "has_family_id = False\n",
    "if has_family_id:\n",
    "    data['Surname'] = data.Name.map(lambda name: name.split(',')[0].strip())\n",
    "    data['FamilyId'] = data.apply(lambda row: row.Surname + str(row.FamilySize), axis = 1)\n",
    "    data.loc[data.FamilySize <= 2, 'FamilyId'] = 'Small'\n",
    "    data.FamilyId = data.FamilyId.fillna('Small')\n",
    "    family_id_table = data.FamilyId.value_counts()\n",
    "    family_id_table = pd.DataFrame({'FamilyId' : family_id_table.keys(), 'Size' : family_id_table.values})\n",
    "    data.FamilyId = data.FamilyId.map(lambda id:\n",
    "                                      'Small' if (family_id_table[family_id_table.FamilyId == id]['Size'] <= 2).any() else id)\n",
    "    features['FamilyId'] = pd.factorize(data.FamilyId)[0]\n",
    "    plt_hist_for_feature('FamilyId', bins = 10)"
   ]
  },
  {
   "cell_type": "markdown",
   "metadata": {},
   "source": [
    "## Sex"
   ]
  },
  {
   "cell_type": "code",
   "execution_count": 8,
   "metadata": {
    "collapsed": false
   },
   "outputs": [
    {
     "data": {
      "image/png": "[encoded data removed]",
      "text/plain": [
       "<matplotlib.figure.Figure at 0x9f04f98>"
      ]
     },
     "metadata": {},
     "output_type": "display_data"
    }
   ],
   "source": [
    "features['Sex'] = data.Sex.map({'female' : 0, 'male' : 1})\n",
    "plt_hist_for_feature('Sex')"
   ]
  },
  {
   "cell_type": "markdown",
   "metadata": {},
   "source": [
    "## Pclass"
   ]
  },
  {
   "cell_type": "code",
   "execution_count": 9,
   "metadata": {
    "collapsed": false
   },
   "outputs": [
    {
     "data": {
      "image/png": "[encoded data removed]",
      "text/plain": [
       "<matplotlib.figure.Figure at 0xba8f278>"
      ]
     },
     "metadata": {},
     "output_type": "display_data"
    }
   ],
   "source": [
    "features['Pclass'] = data.Pclass\n",
    "plt_hist_for_feature('Pclass')"
   ]
  },
  {
   "cell_type": "markdown",
   "metadata": {},
   "source": [
    "## Fare"
   ]
  },
  {
   "cell_type": "code",
   "execution_count": 10,
   "metadata": {
    "collapsed": false
   },
   "outputs": [
    {
     "data": {
      "image/png": "[encoded data removed]",
      "text/plain": [
       "<matplotlib.figure.Figure at 0xbaf0ac8>"
      ]
     },
     "metadata": {},
     "output_type": "display_data"
    }
   ],
   "source": [
    "features['Fare'] = data.Fare.fillna(data.Fare.mean())\n",
    "plt_hist_for_feature('Fare', bins = 30)"
   ]
  },
  {
   "cell_type": "markdown",
   "metadata": {},
   "source": [
    "## Embarked"
   ]
  },
  {
   "cell_type": "code",
   "execution_count": 11,
   "metadata": {
    "collapsed": false
   },
   "outputs": [
    {
     "data": {
      "image/png": "[encoded data removed]",
      "text/plain": [
       "<matplotlib.figure.Figure at 0x9fa9550>"
      ]
     },
     "metadata": {},
     "output_type": "display_data"
    }
   ],
   "source": [
    "data['Embarked'] = data.Embarked.fillna('S')\n",
    "features['Embarked'] = pd.factorize(data.Embarked)[0]\n",
    "plt_hist_for_feature('Embarked')"
   ]
  },
  {
   "cell_type": "markdown",
   "metadata": {},
   "source": [
    "## Age"
   ]
  },
  {
   "cell_type": "code",
   "execution_count": 12,
   "metadata": {
    "collapsed": false
   },
   "outputs": [
    {
     "name": "stdout",
     "output_type": "stream",
     "text": [
      "[ 0.02149871 -0.06990449  0.03340302 -0.36657084 -0.24229674] -0.124774066138\n"
     ]
    },
    {
     "data": {
      "image/png": "[encoded data removed]",
      "text/plain": [
       "<matplotlib.figure.Figure at 0xc749fd0>"
      ]
     },
     "metadata": {},
     "output_type": "display_data"
    }
   ],
   "source": [
    "from sklearn.tree import DecisionTreeRegressor\n",
    "from sklearn.cross_validation import cross_val_score\n",
    "learn_age = True\n",
    "if learn_age:\n",
    "    features['Age'] = data.Age\n",
    "    Xtrain_age = features[data.Age.notnull()].copy()\n",
    "    Xtrain_age = Xtrain_age.drop(['Age'], axis = 1)\n",
    "    ytrain_age = features[features.Age.notnull()].Age\n",
    "    regressor = DecisionTreeRegressor()\n",
    "    score = cross_val_score(regressor, Xtrain_age, ytrain_age, cv = 5)\n",
    "    print(score, score.mean())\n",
    "    \n",
    "    Xtest_age = features[data.Age.isnull()].copy()\n",
    "    Xtest_age = Xtest_age.drop(['Age'], axis = 1)\n",
    "    regressor.fit(Xtrain_age, ytrain_age)\n",
    "    ages = regressor.predict(Xtest_age)\n",
    "    features.loc[features.Age.isnull(), 'Age'] = ages\n",
    "else:\n",
    "    features['Age'] = data.Age.fillna(data.Age.median())\n",
    "plt_hist_for_feature('Age', bins = 50)"
   ]
  },
  {
   "cell_type": "code",
   "execution_count": 13,
   "metadata": {
    "collapsed": false
   },
   "outputs": [],
   "source": [
    "has_age_type = True\n",
    "if has_age_type:\n",
    "    data['AgeType'] = features.apply(lambda row: 1 if row.Age < 18 else 2 if row.Sex == 0 else 3, axis = 1)\n",
    "    features = pd.concat([features, pd.get_dummies(data.AgeType, prefix = 'AgeType')], axis = 1)"
   ]
  },
  {
   "cell_type": "markdown",
   "metadata": {},
   "source": [
    "## Cabin"
   ]
  },
  {
   "cell_type": "code",
   "execution_count": 14,
   "metadata": {
    "collapsed": false
   },
   "outputs": [
    {
     "data": {
      "image/png": "[encoded data removed]",
      "text/plain": [
       "<matplotlib.figure.Figure at 0xc749dd8>"
      ]
     },
     "metadata": {},
     "output_type": "display_data"
    }
   ],
   "source": [
    "data['Cabin'] = data.Cabin.fillna('0')\n",
    "features['Cabin'] = pd.factorize(data.Cabin.map(lambda cabin: cabin[0]))[0]\n",
    "plt_hist_for_feature('Cabin')"
   ]
  },
  {
   "cell_type": "markdown",
   "metadata": {},
   "source": [
    "# Modeling"
   ]
  },
  {
   "cell_type": "markdown",
   "metadata": {},
   "source": [
    "## Feature Selection"
   ]
  },
  {
   "cell_type": "code",
   "execution_count": 15,
   "metadata": {
    "collapsed": false
   },
   "outputs": [],
   "source": [
    "Xtrain = features[:train_data.PassengerId.count()]\n",
    "ytrain = train_data.Survived\n",
    "Xtest = features[train_data.PassengerId.count():]"
   ]
  },
  {
   "cell_type": "code",
   "execution_count": 16,
   "metadata": {
    "collapsed": false
   },
   "outputs": [
    {
     "data": {
      "text/html": [
       "<div>\n",
       "<table border=\"1\" class=\"dataframe\">\n",
       "  <thead>\n",
       "    <tr style=\"text-align: right;\">\n",
       "      <th></th>\n",
       "      <th>FeatureName</th>\n",
       "      <th>Importance</th>\n",
       "    </tr>\n",
       "  </thead>\n",
       "  <tbody>\n",
       "    <tr>\n",
       "      <th>9</th>\n",
       "      <td>Age</td>\n",
       "      <td>0.139243</td>\n",
       "    </tr>\n",
       "    <tr>\n",
       "      <th>7</th>\n",
       "      <td>Fare</td>\n",
       "      <td>0.135221</td>\n",
       "    </tr>\n",
       "    <tr>\n",
       "      <th>1</th>\n",
       "      <td>NameLength</td>\n",
       "      <td>0.133860</td>\n",
       "    </tr>\n",
       "    <tr>\n",
       "      <th>5</th>\n",
       "      <td>Sex</td>\n",
       "      <td>0.112382</td>\n",
       "    </tr>\n",
       "    <tr>\n",
       "      <th>12</th>\n",
       "      <td>AgeType_3</td>\n",
       "      <td>0.105957</td>\n",
       "    </tr>\n",
       "    <tr>\n",
       "      <th>6</th>\n",
       "      <td>Pclass</td>\n",
       "      <td>0.086719</td>\n",
       "    </tr>\n",
       "    <tr>\n",
       "      <th>11</th>\n",
       "      <td>AgeType_2</td>\n",
       "      <td>0.057020</td>\n",
       "    </tr>\n",
       "    <tr>\n",
       "      <th>13</th>\n",
       "      <td>Cabin</td>\n",
       "      <td>0.049857</td>\n",
       "    </tr>\n",
       "    <tr>\n",
       "      <th>4</th>\n",
       "      <td>FamilySizeType</td>\n",
       "      <td>0.043359</td>\n",
       "    </tr>\n",
       "    <tr>\n",
       "      <th>0</th>\n",
       "      <td>Title</td>\n",
       "      <td>0.041238</td>\n",
       "    </tr>\n",
       "    <tr>\n",
       "      <th>3</th>\n",
       "      <td>SibSp</td>\n",
       "      <td>0.031331</td>\n",
       "    </tr>\n",
       "    <tr>\n",
       "      <th>8</th>\n",
       "      <td>Embarked</td>\n",
       "      <td>0.029476</td>\n",
       "    </tr>\n",
       "    <tr>\n",
       "      <th>2</th>\n",
       "      <td>Parch</td>\n",
       "      <td>0.021117</td>\n",
       "    </tr>\n",
       "    <tr>\n",
       "      <th>10</th>\n",
       "      <td>AgeType_1</td>\n",
       "      <td>0.013221</td>\n",
       "    </tr>\n",
       "  </tbody>\n",
       "</table>\n",
       "</div>"
      ],
      "text/plain": [
       "       FeatureName  Importance\n",
       "9              Age    0.139243\n",
       "7             Fare    0.135221\n",
       "1       NameLength    0.133860\n",
       "5              Sex    0.112382\n",
       "12       AgeType_3    0.105957\n",
       "6           Pclass    0.086719\n",
       "11       AgeType_2    0.057020\n",
       "13           Cabin    0.049857\n",
       "4   FamilySizeType    0.043359\n",
       "0            Title    0.041238\n",
       "3            SibSp    0.031331\n",
       "8         Embarked    0.029476\n",
       "2            Parch    0.021117\n",
       "10       AgeType_1    0.013221"
      ]
     },
     "execution_count": 16,
     "metadata": {},
     "output_type": "execute_result"
    }
   ],
   "source": [
    "from sklearn.ensemble import ExtraTreesClassifier\n",
    "extra_classifier = ExtraTreesClassifier(n_estimators = 200)\n",
    "extra_classifier.fit(Xtrain, ytrain)\n",
    "importances = pd.DataFrame()\n",
    "importances['FeatureName'] = Xtrain.columns\n",
    "importances['Importance'] = extra_classifier.feature_importances_\n",
    "importances.sort_values('Importance', ascending = False)"
   ]
  },
  {
   "cell_type": "code",
   "execution_count": 17,
   "metadata": {
    "collapsed": false
   },
   "outputs": [
    {
     "data": {
      "text/plain": [
       "((891, 6),\n",
       " (418, 6),\n",
       " SelectFromModel(estimator=ExtraTreesClassifier(bootstrap=False, class_weight=None, criterion='gini',\n",
       "            max_depth=None, max_features='auto', max_leaf_nodes=None,\n",
       "            min_samples_leaf=1, min_samples_split=2,\n",
       "            min_weight_fraction_leaf=0.0, n_estimators=200, n_jobs=1,\n",
       "            oob_score=False, random_state=None, verbose=0, warm_start=False),\n",
       "         prefit=True, threshold=None))"
      ]
     },
     "execution_count": 17,
     "metadata": {},
     "output_type": "execute_result"
    }
   ],
   "source": [
    "from sklearn.feature_selection import SelectFromModel\n",
    "select_model = SelectFromModel(extra_classifier, prefit = True)\n",
    "Xtrain_selected = select_model.transform(Xtrain)\n",
    "Xtest_selected = select_model.transform(Xtest)\n",
    "Xtrain_selected.shape, Xtest_selected.shape, select_model"
   ]
  },
  {
   "cell_type": "markdown",
   "metadata": {},
   "source": [
    "## Parameters Tuning"
   ]
  },
  {
   "cell_type": "code",
   "execution_count": 18,
   "metadata": {
    "collapsed": false
   },
   "outputs": [
    {
     "name": "stdout",
     "output_type": "stream",
     "text": [
      "Best Score: 0.8372615039281706\n",
      "Best Parameter: {'criterion': 'entropy', 'max_depth': 8, 'n_estimators': 250, 'max_features': None}\n"
     ]
    }
   ],
   "source": [
    "from sklearn.ensemble import RandomForestClassifier\n",
    "from sklearn.cross_validation import StratifiedKFold\n",
    "from sklearn.grid_search import GridSearchCV\n",
    "\n",
    "random_forest = RandomForestClassifier()\n",
    "parameter_grid = {'max_features' : [None, 'sqrt', 'log2'],\n",
    "                  'max_depth' : [4, 5, 6, 7, 8], \n",
    "                  'n_estimators' : [200, 250, 500],\n",
    "                  # 'n_estimators' : [200, 250, 500, 1000, 2000],\n",
    "                  'criterion' : ['gini', 'entropy']}\n",
    "grid_search = GridSearchCV(random_forest, param_grid = parameter_grid)\n",
    "grid_search.fit(Xtrain, ytrain)\n",
    "print('Best Score: {}'.format(grid_search.best_score_))\n",
    "print('Best Parameter: {}'.format(grid_search.best_params_))"
   ]
  },
  {
   "cell_type": "markdown",
   "metadata": {},
   "source": [
    "## Predict"
   ]
  },
  {
   "cell_type": "code",
   "execution_count": 19,
   "metadata": {
    "collapsed": false
   },
   "outputs": [
    {
     "data": {
      "text/plain": [
       "(150, 418)"
      ]
     },
     "execution_count": 19,
     "metadata": {},
     "output_type": "execute_result"
    }
   ],
   "source": [
    "survived = grid_search.predict(Xtest)\n",
    "predict_data = pd.DataFrame()\n",
    "predict_data['PassengerId'] = test_data.PassengerId\n",
    "predict_data['Survived'] = survived.astype(int)\n",
    "predict_data.to_csv('predict.csv', index = False)\n",
    "survived.sum(), len(survived)"
   ]
  },
  {
   "cell_type": "markdown",
   "metadata": {},
   "source": [
    "## Cross Validation"
   ]
  },
  {
   "cell_type": "code",
   "execution_count": 20,
   "metadata": {
    "collapsed": false
   },
   "outputs": [
    {
     "name": "stdout",
     "output_type": "stream",
     "text": [
      "[ 0.84916201  0.79888268  0.8258427   0.81460674  0.85875706]\n",
      "0.829450238617\n"
     ]
    }
   ],
   "source": [
    "random_forest = RandomForestClassifier(n_estimators = 3000, min_samples_split = 4)\n",
    "score = cross_val_score(random_forest, Xtrain, ytrain, cv = 5)\n",
    "print(score)\n",
    "print(score.mean())"
   ]
  },
  {
   "cell_type": "code",
   "execution_count": 21,
   "metadata": {
    "collapsed": false
   },
   "outputs": [
    {
     "data": {
      "text/plain": [
       "(148, 418)"
      ]
     },
     "execution_count": 21,
     "metadata": {},
     "output_type": "execute_result"
    }
   ],
   "source": [
    "random_forest.fit(Xtrain, ytrain)\n",
    "survived = random_forest.predict(Xtest)\n",
    "predict_data = pd.DataFrame()\n",
    "predict_data['PassengerId'] = test_data.PassengerId\n",
    "predict_data['Survived'] = survived.astype(int)\n",
    "predict_data.to_csv('predict_validation.csv', index = False)\n",
    "survived.sum(), len(survived)"
   ]
  },
  {
   "cell_type": "code",
   "execution_count": null,
   "metadata": {
    "collapsed": true
   },
   "outputs": [],
   "source": []
  }
 ],
 "metadata": {
  "anaconda-cloud": {},
  "kernelspec": {
   "display_name": "Python [default]",
   "language": "python",
   "name": "python3"
  },
  "language_info": {
   "codemirror_mode": {
    "name": "ipython",
    "version": 3
   },
   "file_extension": ".py",
   "mimetype": "text/x-python",
   "name": "python",
   "nbconvert_exporter": "python",
   "pygments_lexer": "ipython3",
   "version": "3.5.2"
  }
 },
 "nbformat": 4,
 "nbformat_minor": 1
}
